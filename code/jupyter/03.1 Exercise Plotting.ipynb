{
 "cells": [
  {
   "cell_type": "markdown",
   "metadata": {},
   "source": [
    "# Exercise 3: Plotting"
   ]
  },
  {
   "cell_type": "code",
   "execution_count": 2,
   "metadata": {},
   "outputs": [
    {
     "name": "stderr",
     "output_type": "stream",
     "text": [
      "Matplotlib is building the font cache; this may take a moment.\n"
     ]
    }
   ],
   "source": [
    "# setup\n",
    "import numpy as np\n",
    "import matplotlib.pyplot as plt"
   ]
  },
  {
   "cell_type": "code",
   "execution_count": 3,
   "metadata": {},
   "outputs": [],
   "source": [
    "# setting up some helper functions for you.\n",
    "# these will be used inthe following problems.\n",
    "\n",
    "def F(x,y):\n",
    "    return 2. + x -0.5*y + 2.*x*x - x*y + 3*y*y\n",
    "\n",
    "def dFx(x,y):\n",
    "    return  1. + 4.*x - y\n",
    "\n",
    "def dFy(x,y):\n",
    "    return  -0.5 - x + 6.*y"
   ]
  },
  {
   "cell_type": "markdown",
   "metadata": {},
   "source": [
    "## Problem 1: \n",
    "\n",
    "Create a 2D plot of $F(x,y)$ for $y=0.1x$ over $-1<x<+1$.\n",
    "Make sure to add a title, axis labels, and a grid to your figure."
   ]
  },
  {
   "cell_type": "code",
   "execution_count": 6,
   "metadata": {},
   "outputs": [
    {
     "data": {
      "text/plain": [
       "[<matplotlib.lines.Line2D at 0x1b855277f48>]"
      ]
     },
     "execution_count": 6,
     "metadata": {},
     "output_type": "execute_result"
    },
    {
     "data": {
      "image/png": "[encoded data removed]",
      "text/plain": [
       "<Figure size 432x288 with 1 Axes>"
      ]
     },
     "metadata": {
      "needs_background": "light"
     },
     "output_type": "display_data"
    }
   ],
   "source": [
    "def F(x):\n",
    "    return 0.1*x\n",
    "x=np.linspace(-1,1,100)\n",
    "plt.plot(x,F(x),'-r')"
   ]
  },
  {
   "cell_type": "markdown",
   "metadata": {},
   "source": [
    "## Problem 2: \n",
    "\n",
    "1. Create a contour plot for $F(x,y)$ over $-5<x<+10,~0<y<+10$.  You will need the [**meshgrid**](https://numpy.org/doc/stable/reference/generated/numpy.meshgrid.html) and [**contour**](https://matplotlib.org/3.1.1/api/_as_gen/matplotlib.pyplot.contour.html) functions for this problem.  Use a 10x10 grid.\n",
    "2. Add gradient vectors, \n",
    "$\\nabla F(x,y)=\\left\\{\\begin{array}{c}\n",
    "                  \\frac{\\partial F}{\\partial x} \\\\ \n",
    "                  \\frac{\\partial F}{\\partial y}\n",
    "               \\end{array}\\right\\}$ \n",
    "on top of this plot using the [**quiver** method](https://matplotlib.org/api/_as_gen/matplotlib.pyplot.quiver.html). "
   ]
  },
  {
   "cell_type": "code",
   "execution_count": null,
   "metadata": {},
   "outputs": [],
   "source": []
  },
  {
   "cell_type": "markdown",
   "metadata": {},
   "source": [
    "## Problem 3: \n",
    "\n",
    "1. Create a quiver plot for \n",
    "$\\nabla \\times F(x,y)=\\left\\{\\begin{array}{c}-\\frac{\\partial F}{\\partial y} \\\\ \\frac{\\partial F}{\\partial x}\\end{array}\\right\\}$\n",
    "over $-10<x<+10,~-10<y<+10$.  Use a 10x10 grid.\n",
    "\n",
    "2. Overlay a streamline plot for that vector field.\n",
    "You will need the [**streamplot** method](https://matplotlib.org/3.2.2/api/_as_gen/matplotlib.pyplot.streamplot.html). "
   ]
  },
  {
   "cell_type": "code",
   "execution_count": null,
   "metadata": {},
   "outputs": [],
   "source": []
  }
 ],
 "metadata": {
  "kernelspec": {
   "display_name": "Python 3",
   "language": "python",
   "name": "python3"
  },
  "language_info": {
   "codemirror_mode": {
    "name": "ipython",
    "version": 3
   },
   "file_extension": ".py",
   "mimetype": "text/x-python",
   "name": "python",
   "nbconvert_exporter": "python",
   "pygments_lexer": "ipython3",
   "version": "3.7.8"
  }
 },
 "nbformat": 4,
 "nbformat_minor": 4
}
